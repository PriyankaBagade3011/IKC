{
 "cells": [
  {
   "cell_type": "code",
   "execution_count": 2,
   "metadata": {},
   "outputs": [],
   "source": [
    "import PinkBlack.io\n",
    "from PinkBlack.trainer import Trainer\n",
    "\n",
    "import torch\n",
    "import torch.nn as nn\n",
    "import torch.optim as optim\n",
    "from torch.utils.data import DataLoader\n",
    "\n",
    "\n",
    "import os, glob\n",
    "import numpy as np\n",
    "from sklearn.model_selection import train_test_split\n",
    "\n",
    "from dataset.kernel_image_pair import KernelImagePair, default_augmentations, default_transforms\n",
    "from network.sftmd import SFTMD, Predictor, Corrector"
   ]
  },
  {
   "cell_type": "code",
   "execution_count": 3,
   "metadata": {},
   "outputs": [],
   "source": [
    "os.environ['CUDA_VISIBLE_DEVICES'] = \"1\""
   ]
  },
  {
   "cell_type": "code",
   "execution_count": 4,
   "metadata": {},
   "outputs": [],
   "source": [
    "from PIL import Image\n",
    "import matplotlib.pyplot as plt\n",
    "import cv2"
   ]
  },
  {
   "cell_type": "code",
   "execution_count": 5,
   "metadata": {},
   "outputs": [],
   "source": [
    "import numpy as np\n",
    "import math\n",
    "from torchvision.utils import make_grid\n",
    "def tensor2img(tensor, out_type=np.uint8, min_max=(0, 1)):\n",
    "    '''\n",
    "    Converts a torch Tensor into an image Numpy array\n",
    "    Input: 4D(B,(3/1),H,W), 3D(C,H,W), or 2D(H,W), any range, RGB channel order\n",
    "    Output: 3D(H,W,C) or 2D(H,W), [0,255], np.uint8 (default)\n",
    "    '''\n",
    "    tensor = tensor.squeeze().float().cpu().clamp_(*min_max)  # clamp\n",
    "    tensor = (tensor - min_max[0]) / (min_max[1] - min_max[0])  # to range [0,1]\n",
    "    n_dim = tensor.dim()\n",
    "    if n_dim == 4:\n",
    "        n_img = len(tensor)\n",
    "        img_np = make_grid(tensor, padding=0, nrow=1, normalize=False).numpy()\n",
    "        img_np = np.transpose(img_np[[2, 1, 0], :, :], (1, 2, 0))  # HWC, BGR\n",
    "    elif n_dim == 3:\n",
    "        img_np = tensor.numpy()\n",
    "        img_np = np.transpose(img_np[[2, 1, 0], :, :], (1, 2, 0))  # HWC, BGR\n",
    "    elif n_dim == 2:\n",
    "        img_np = tensor.numpy()\n",
    "    else:\n",
    "        raise TypeError(\n",
    "            'Only support 4D, 3D and 2D tensor. But received with dimension: {:d}'.format(n_dim))\n",
    "    if out_type == np.uint8:\n",
    "        img_np = (img_np * 255.0).round()\n",
    "        # Important. Unlike matlab, numpy.unit8() WILL NOT round by default.\n",
    "    return img_np.astype(out_type)"
   ]
  },
  {
   "cell_type": "code",
   "execution_count": 6,
   "metadata": {},
   "outputs": [],
   "source": [
    "def show_results(sr, ds):\n",
    "    sr = tensor2img(sr)\n",
    "    lr = Image.fromarray(tensor2img(ds['LR']))\n",
    "    hr = Image.fromarray(tensor2img(ds['HR']))\n",
    "#     display(lr)\n",
    "#     display(lr.resize((lr.size[0]*scale, lr.size[1]*scale), Image.BICUBIC))\n",
    "#     display(Image.fromarray(sr))\n",
    "#     display(hr)\n",
    "    fig = plt.figure(figsize=[6.4*6, 4.8*4])\n",
    "\n",
    "    fig.add_subplot(3,12,26)\n",
    "    plt.imshow(lr)\n",
    "    fig.add_subplot(142)\n",
    "    plt.imshow(lr.resize((lr.size[0]*scale, lr.size[1]*scale), Image.BICUBIC))\n",
    "    fig.add_subplot(143)\n",
    "    plt.imshow(sr)\n",
    "    fig.add_subplot(144)\n",
    "    plt.imshow(hr)"
   ]
  },
  {
   "cell_type": "code",
   "execution_count": 22,
   "metadata": {},
   "outputs": [],
   "source": [
    "def metric(output, bd):\n",
    "    with torch.no_grad():\n",
    "        sr = output\n",
    "        hr = bd['HR']\n",
    "        diff = sr - hr\n",
    "        shave = 4 + 10\n",
    "        valid = diff[..., shave:-shave, shave:-shave]\n",
    "        mse = valid.pow(2).mean()\n",
    "        return -10 * torch.log10(mse)"
   ]
  },
  {
   "cell_type": "code",
   "execution_count": 7,
   "metadata": {},
   "outputs": [],
   "source": [
    "train_imgs = glob.glob(\"../data/DIV2K/DIV2K_train_HR/**/*.png\", recursive=True)\n",
    "test_imgs = glob.glob(\"../data/testing_datasets/Set5/*.png\", recursive=True)\n",
    "train_kernel = \"kernels/train/kernel_scale4_iso_dim10.pth\"\n",
    "test_kernel = \"kernels/test_2/kernel_scale4_iso_dim10.pth\"\n",
    "scale=4\n",
    "batch_size=1\n",
    "\n",
    "# test_imgs = glob.glob(\"../data/testing_datasets/Set5/**/*.png\", recursive=True)\n",
    "# test_imgs"
   ]
  },
  {
   "cell_type": "code",
   "execution_count": null,
   "metadata": {},
   "outputs": [],
   "source": []
  },
  {
   "cell_type": "code",
   "execution_count": 15,
   "metadata": {},
   "outputs": [],
   "source": [
    "train_dataset = KernelImagePair(imgs=train_imgs, \n",
    "                            kernel_pickle=train_kernel, scale=scale, \n",
    "                            augmentations=default_augmentations, transforms=default_transforms, \n",
    "                            seed=0, train=True)\n",
    "test_dataset = KernelImagePair(imgs=test_imgs, \n",
    "                            kernel_pickle=test_kernel, scale=scale, \n",
    "                            augmentations=default_augmentations, transforms=default_transforms, \n",
    "                            seed=0, train=False)"
   ]
  },
  {
   "cell_type": "code",
   "execution_count": 9,
   "metadata": {},
   "outputs": [],
   "source": [
    "dl = DataLoader(test_dataset, batch_size=1, shuffle=False, num_workers=0, pin_memory=False)"
   ]
  },
  {
   "cell_type": "code",
   "execution_count": 13,
   "metadata": {},
   "outputs": [],
   "source": [
    "_sftmd = \"ckpt/sftmd/191019_0_x4_cosine_res_every_20k_lr_1e-4_1e-7_no_gradclip_bs16_winit_default.pth\"\n",
    "_predictor = \"ckpt/predictor/191020_0_x4_lr_1e-4_no_scheduler_no_gradclip_bs16.pth\"\n",
    "_corrector = \"ckpt/corrector/191019_0_x4___191020_0_x4_191022.pth-23500\""
   ]
  },
  {
   "cell_type": "code",
   "execution_count": 14,
   "metadata": {},
   "outputs": [
    {
     "data": {
      "text/plain": [
       "''"
      ]
     },
     "execution_count": 14,
     "metadata": {},
     "output_type": "execute_result"
    }
   ],
   "source": [
    "sftmd = SFTMD(scale=scale).cuda()\n",
    "sftmd.load_state_dict(torch.load(_sftmd))\n",
    "sftmd.eval()\n",
    "\"\""
   ]
  },
  {
   "cell_type": "code",
   "execution_count": 16,
   "metadata": {},
   "outputs": [
    {
     "data": {
      "text/plain": [
       "''"
      ]
     },
     "execution_count": 16,
     "metadata": {},
     "output_type": "execute_result"
    }
   ],
   "source": [
    "predictor = Predictor(train_dataset.pca).cuda()\n",
    "predictor.load_state_dict(torch.load(_predictor))\n",
    "predictor.eval()\n",
    "\"\""
   ]
  },
  {
   "cell_type": "code",
   "execution_count": 17,
   "metadata": {},
   "outputs": [
    {
     "data": {
      "text/plain": [
       "''"
      ]
     },
     "execution_count": 17,
     "metadata": {},
     "output_type": "execute_result"
    }
   ],
   "source": [
    "corrector = Corrector().cuda()\n",
    "corrector.load_state_dict(torch.load(_corrector))\n",
    "corrector.eval()\n",
    "\"\""
   ]
  },
  {
   "cell_type": "markdown",
   "metadata": {},
   "source": [
    "# test Corrector"
   ]
  },
  {
   "cell_type": "code",
   "execution_count": 18,
   "metadata": {},
   "outputs": [],
   "source": [
    "it = iter(dl)"
   ]
  },
  {
   "cell_type": "code",
   "execution_count": 20,
   "metadata": {},
   "outputs": [
    {
     "name": "stdout",
     "output_type": "stream",
     "text": [
      "tensor([2.2855], dtype=torch.float64)\n"
     ]
    }
   ],
   "source": [
    "with torch.no_grad():\n",
    "    ds = next(it)\n",
    "    print(ds['stddev'])\n",
    "    for k, v in ds.items():\n",
    "        if torch.is_tensor(v):\n",
    "            ds[k] = v.cuda()"
   ]
  },
  {
   "cell_type": "code",
   "execution_count": 24,
   "metadata": {},
   "outputs": [
    {
     "data": {
      "text/plain": [
       "torch.Size([1, 10])"
      ]
     },
     "execution_count": 24,
     "metadata": {},
     "output_type": "execute_result"
    }
   ],
   "source": [
    "ds['k_reduced'].shape"
   ]
  },
  {
   "cell_type": "code",
   "execution_count": 23,
   "metadata": {},
   "outputs": [],
   "source": [
    "kernels = []\n",
    "srs = []\n",
    "metrics = []"
   ]
  },
  {
   "cell_type": "code",
   "execution_count": 25,
   "metadata": {},
   "outputs": [],
   "source": [
    "with torch.no_grad():\n",
    "    k_reduced_gt = ds['k_reduced'][0]\n",
    "    ds['k_reduced'] = predictor(ds, recon_kernel=False)\n",
    "    kernels.append(ds['k_reduced'][0])\n",
    "    for i in range(7):\n",
    "        sr = sftmd(ds)\n",
    "        ds['SR'] = sr\n",
    "        ds['k_reduced'] = corrector(ds)\n",
    "        srs.append(sr[0])\n",
    "        metrics.append(metric(sr, ds).item())\n",
    "        kernels.append(ds['k_reduced'][0])"
   ]
  },
  {
   "cell_type": "code",
   "execution_count": 26,
   "metadata": {},
   "outputs": [],
   "source": [
    "pca = train_dataset.pca\n",
    "kr_recons = []\n",
    "for kr in kernels:\n",
    "    kr_np = kr.cpu().numpy()\n",
    "    kr_recons.append(pca.inverse_transform(kr_np).reshape(21, 21))"
   ]
  },
  {
   "cell_type": "code",
   "execution_count": 30,
   "metadata": {},
   "outputs": [
    {
     "data": {
      "image/png": "[encoded data removed]",
      "text/plain": [
       "<Figure size 432x288 with 1 Axes>"
      ]
     },
     "metadata": {
      "needs_background": "light"
     },
     "output_type": "display_data"
    }
   ],
   "source": [
    "kr_gt_np = k_reduced_gt.cpu().numpy()\n",
    "kr_gt_np_recon = pca.inverse_transform(kr_gt_np).reshape(21,21)\n",
    "plt.imshow(kr_gt_np_recon, cmap=\"gray\")\n",
    "plt.show()"
   ]
  },
  {
   "cell_type": "code",
   "execution_count": 29,
   "metadata": {},
   "outputs": [
    {
     "data": {
      "image/png": "[encoded data removed]",
      "text/plain": [
       "<Figure size 432x288 with 1 Axes>"
      ]
     },
     "metadata": {
      "needs_background": "light"
     },
     "output_type": "display_data"
    },
    {
     "data": {
      "image/png": "[encoded data removed]",
      "text/plain": [
       "<Figure size 432x288 with 1 Axes>"
      ]
     },
     "metadata": {
      "needs_background": "light"
     },
     "output_type": "display_data"
    },
    {
     "data": {
      "image/png": "[encoded data removed]",
      "text/plain": [
       "<Figure size 432x288 with 1 Axes>"
      ]
     },
     "metadata": {
      "needs_background": "light"
     },
     "output_type": "display_data"
    },
    {
     "data": {
      "image/png": "[encoded data removed]",
      "text/plain": [
       "<Figure size 432x288 with 1 Axes>"
      ]
     },
     "metadata": {
      "needs_background": "light"
     },
     "output_type": "display_data"
    },
    {
     "data": {
      "image/png": "[encoded data removed]",
      "text/plain": [
       "<Figure size 432x288 with 1 Axes>"
      ]
     },
     "metadata": {
      "needs_background": "light"
     },
     "output_type": "display_data"
    },
    {
     "data": {
      "image/png": "[encoded data removed]",
      "text/plain": [
       "<Figure size 432x288 with 1 Axes>"
      ]
     },
     "metadata": {
      "needs_background": "light"
     },
     "output_type": "display_data"
    },
    {
     "data": {
      "image/png": "[encoded data removed]",
      "text/plain": [
       "<Figure size 432x288 with 1 Axes>"
      ]
     },
     "metadata": {
      "needs_background": "light"
     },
     "output_type": "display_data"
    },
    {
     "data": {
      "image/png": "[encoded data removed]",
      "text/plain": [
       "<Figure size 432x288 with 1 Axes>"
      ]
     },
     "metadata": {
      "needs_background": "light"
     },
     "output_type": "display_data"
    }
   ],
   "source": [
    "for kr_recon in kr_recons:\n",
    "    plt.imshow(kr_recon, cmap=\"gray\")\n",
    "    plt.show()"
   ]
  },
  {
   "cell_type": "code",
   "execution_count": 11,
   "metadata": {},
   "outputs": [
    {
     "name": "stdout",
     "output_type": "stream",
     "text": [
      "torch.Size([1, 3, 1068, 2040])\n"
     ]
    }
   ],
   "source": [
    "with torch.no_grad():\n",
    "    sr = net(ds)\n",
    "    print(sr.shape)\n",
    "show_results(sr, ds)"
   ]
  },
  {
   "cell_type": "markdown",
   "metadata": {},
   "source": [
    "# Test predictor"
   ]
  },
  {
   "cell_type": "code",
   "execution_count": 83,
   "metadata": {},
   "outputs": [
    {
     "data": {
      "text/plain": [
       "{'max_train_metric': -8.017912577981849e-05,\n",
       " 'max_val_metric': -2.4865979503374548e-05,\n",
       " 'max_test_metric': -9.764961382643379e-06,\n",
       " 'logdir': 'ckpt/predictor/191020_0_x4_lr_1e-4_no_scheduler_no_gradclip_bs16.pth_tb/',\n",
       " 'timestamp': '20191020_230902',\n",
       " 'clip_gradient_norm': False,\n",
       " 'is_data_dict': True,\n",
       " 'experiment_name': '191020_0_x4_lr_1e-4_no_scheduler_no_gradclip_bs16',\n",
       " 'step': 104500,\n",
       " 'train_loss': 8.017912577981849e-05,\n",
       " 'train_metric': -8.017912577981849e-05,\n",
       " 'val_loss': 2.4865979503374548e-05,\n",
       " 'val_metric': -2.4865979503374548e-05,\n",
       " 'test_loss': 9.764961382643379e-06,\n",
       " 'test_metric': -9.764961382643379e-06,\n",
       " 'set5_loss': 6.437659158109454e-06,\n",
       " 'set5_metric': -6.437659158109454e-06,\n",
       " 'urban100_loss': 1.1336605202814099e-05,\n",
       " 'urban100_metric': -1.1336605202814099e-05,\n",
       " 'max_set5_metric': 0.0,\n",
       " 'max_urban100_metric': 0.0}"
      ]
     },
     "execution_count": 83,
     "metadata": {},
     "output_type": "execute_result"
    }
   ],
   "source": [
    "import json\n",
    "predictor = Predictor(train_dataset.pca).cuda()\n",
    "predictor.load_state_dict(torch.load(\"ckpt/predictor/191020_0_x4_lr_1e-4_no_scheduler_no_gradclip_bs16.pth\"))\n",
    "predictor.eval()\n",
    "json.load(open(\"ckpt/predictor/191020_0_x4_lr_1e-4_no_scheduler_no_gradclip_bs16.pth.config\"))"
   ]
  },
  {
   "cell_type": "code",
   "execution_count": 12,
   "metadata": {},
   "outputs": [],
   "source": [
    "it = iter(dl)"
   ]
  },
  {
   "cell_type": "code",
   "execution_count": 13,
   "metadata": {},
   "outputs": [
    {
     "name": "stdout",
     "output_type": "stream",
     "text": [
      "tensor([1.8099], dtype=torch.float64)\n"
     ]
    }
   ],
   "source": [
    "ds = next(it)\n",
    "print(ds['stddev'])\n",
    "for k, v in ds.items():\n",
    "    if torch.is_tensor(v):\n",
    "        ds[k] = v.cuda()"
   ]
  },
  {
   "cell_type": "code",
   "execution_count": 14,
   "metadata": {},
   "outputs": [],
   "source": [
    "with torch.no_grad():\n",
    "    k_estimated = predictor(ds, recon_code=False)\n",
    "# ds['k_save'] = ds['k']\n",
    "# ds['k'] = k_estimated\n",
    "# k_np = ds['k_save'].cpu().numpy().reshape(21, 21)\n",
    "# k_estimated_np = ds['k'].cpu().numpy().reshape(21, 21)"
   ]
  },
  {
   "cell_type": "code",
   "execution_count": 54,
   "metadata": {},
   "outputs": [],
   "source": [
    "kn = k_estimated.cpu().numpy()"
   ]
  },
  {
   "cell_type": "code",
   "execution_count": 55,
   "metadata": {},
   "outputs": [
    {
     "data": {
      "text/plain": [
       "array([[  3.9513104 ,   2.5394523 ,  -4.195571  ,  18.93788   ,\n",
       "          0.09772182, -10.879078  ,  -5.647569  ,   7.171652  ,\n",
       "         -4.403939  ,  -2.3788943 ]], dtype=float32)"
      ]
     },
     "execution_count": 55,
     "metadata": {},
     "output_type": "execute_result"
    }
   ],
   "source": [
    "kn"
   ]
  },
  {
   "cell_type": "code",
   "execution_count": 59,
   "metadata": {},
   "outputs": [
    {
     "data": {
      "text/plain": [
       "(10, 441)"
      ]
     },
     "execution_count": 59,
     "metadata": {},
     "output_type": "execute_result"
    }
   ],
   "source": [
    "train_dataset.pca.components_.shape"
   ]
  },
  {
   "cell_type": "code",
   "execution_count": 60,
   "metadata": {},
   "outputs": [
    {
     "data": {
      "text/plain": [
       "(441,)"
      ]
     },
     "execution_count": 60,
     "metadata": {},
     "output_type": "execute_result"
    }
   ],
   "source": [
    "train_dataset.pca.mean_.shape"
   ]
  },
  {
   "cell_type": "code",
   "execution_count": 64,
   "metadata": {},
   "outputs": [],
   "source": [
    "cp_ = torch.tensor(train_dataset.pca.components_, dtype=torch.float32)\n",
    "mn_ = torch.tensor(train_dataset.pca.mean_, dtype=torch.float32)\n"
   ]
  },
  {
   "cell_type": "code",
   "execution_count": 72,
   "metadata": {},
   "outputs": [],
   "source": [
    "code = ds['k'].view(1, 441).cpu()"
   ]
  },
  {
   "cell_type": "code",
   "execution_count": 79,
   "metadata": {},
   "outputs": [
    {
     "data": {
      "text/plain": [
       "torch.Size([1, 441])"
      ]
     },
     "execution_count": 79,
     "metadata": {},
     "output_type": "execute_result"
    }
   ],
   "source": [
    "(code - mn_).shape"
   ]
  },
  {
   "cell_type": "code",
   "execution_count": 80,
   "metadata": {},
   "outputs": [
    {
     "data": {
      "text/plain": [
       "torch.Size([10, 441])"
      ]
     },
     "execution_count": 80,
     "metadata": {},
     "output_type": "execute_result"
    }
   ],
   "source": [
    "cp_.t()"
   ]
  },
  {
   "cell_type": "code",
   "execution_count": 82,
   "metadata": {},
   "outputs": [
    {
     "data": {
      "text/plain": [
       "tensor([[-1.0590e-01,  1.3265e-02, -3.1409e-02,  8.2115e-03,  1.8565e-03,\n",
       "          2.0822e-03, -2.5221e-05,  2.2686e-04, -5.5042e-05,  2.4488e-05]],\n",
       "       device='cuda:0')"
      ]
     },
     "execution_count": 82,
     "metadata": {},
     "output_type": "execute_result"
    }
   ],
   "source": [
    "ds['k_reduced']"
   ]
  },
  {
   "cell_type": "code",
   "execution_count": 81,
   "metadata": {},
   "outputs": [
    {
     "data": {
      "text/plain": [
       "tensor([[-1.0590e-01,  1.3265e-02, -3.1409e-02,  8.2114e-03,  1.8565e-03,\n",
       "          2.0822e-03, -2.5222e-05,  2.2687e-04, -5.5040e-05,  2.4486e-05]])"
      ]
     },
     "execution_count": 81,
     "metadata": {},
     "output_type": "execute_result"
    }
   ],
   "source": [
    "torch.matmul(code - mn_, cp_.t())`"
   ]
  },
  {
   "cell_type": "code",
   "execution_count": 33,
   "metadata": {},
   "outputs": [],
   "source": [
    "gt = train_dataset.k_reduced[0]"
   ]
  },
  {
   "cell_type": "code",
   "execution_count": 32,
   "metadata": {},
   "outputs": [
    {
     "data": {
      "text/plain": [
       "(441,)"
      ]
     },
     "execution_count": 32,
     "metadata": {},
     "output_type": "execute_result"
    }
   ],
   "source": [
    "gt.shape"
   ]
  },
  {
   "cell_type": "code",
   "execution_count": 34,
   "metadata": {},
   "outputs": [
    {
     "data": {
      "text/plain": [
       "<matplotlib.image.AxesImage at 0x7f65daf0dd68>"
      ]
     },
     "execution_count": 34,
     "metadata": {},
     "output_type": "execute_result"
    },
    {
     "data": {
      "image/png": "[encoded data removed]",
      "text/plain": [
       "<Figure size 432x288 with 1 Axes>"
      ]
     },
     "metadata": {
      "needs_background": "light"
     },
     "output_type": "display_data"
    }
   ],
   "source": [
    "plt.imshow(train_dataset.pca.inverse_transform(gt).reshape(21,21))"
   ]
  },
  {
   "cell_type": "code",
   "execution_count": 48,
   "metadata": {},
   "outputs": [
    {
     "data": {
      "text/plain": [
       "-0.154433331614393"
      ]
     },
     "execution_count": 48,
     "metadata": {},
     "output_type": "execute_result"
    }
   ],
   "source": []
  },
  {
   "cell_type": "code",
   "execution_count": 45,
   "metadata": {},
   "outputs": [
    {
     "data": {
      "text/plain": [
       "<matplotlib.image.AxesImage at 0x7f65db16bd30>"
      ]
     },
     "execution_count": 45,
     "metadata": {},
     "output_type": "execute_result"
    },
    {
     "data": {
      "image/png": "[encoded data removed]",
      "text/plain": [
       "<Figure size 432x288 with 1 Axes>"
      ]
     },
     "metadata": {
      "needs_background": "light"
     },
     "output_type": "display_data"
    }
   ],
   "source": [
    "plt.imshow(train_dataset.pca.inverse_transform(kn).reshape(21,21))"
   ]
  },
  {
   "cell_type": "code",
   "execution_count": 49,
   "metadata": {},
   "outputs": [
    {
     "data": {
      "text/plain": [
       "1.000000000000001"
      ]
     },
     "execution_count": 49,
     "metadata": {},
     "output_type": "execute_result"
    }
   ],
   "source": [
    "rec_gt = train_dataset.pca.inverse_transform(gt).reshape(21,21)\n",
    "rec_gt.sum()"
   ]
  },
  {
   "cell_type": "code",
   "execution_count": 52,
   "metadata": {},
   "outputs": [
    {
     "data": {
      "text/plain": [
       "0.030469358134239413"
      ]
     },
     "execution_count": 52,
     "metadata": {},
     "output_type": "execute_result"
    }
   ],
   "source": [
    "rec_gt.max()"
   ]
  },
  {
   "cell_type": "code",
   "execution_count": 53,
   "metadata": {},
   "outputs": [
    {
     "data": {
      "text/plain": [
       "1.2661429815228167e-07"
      ]
     },
     "execution_count": 53,
     "metadata": {},
     "output_type": "execute_result"
    }
   ],
   "source": [
    "rec_gt.min()"
   ]
  },
  {
   "cell_type": "code",
   "execution_count": 50,
   "metadata": {
    "scrolled": true
   },
   "outputs": [
    {
     "data": {
      "text/plain": [
       "1.000000000000334"
      ]
     },
     "execution_count": 50,
     "metadata": {},
     "output_type": "execute_result"
    }
   ],
   "source": [
    "rec = train_dataset.pca.inverse_transform(kn).reshape(21,21)\n",
    "rec.sum()"
   ]
  },
  {
   "cell_type": "code",
   "execution_count": 51,
   "metadata": {},
   "outputs": [
    {
     "data": {
      "text/plain": [
       "-4.076851501308736"
      ]
     },
     "execution_count": 51,
     "metadata": {},
     "output_type": "execute_result"
    }
   ],
   "source": [
    "rec.min()"
   ]
  },
  {
   "cell_type": "code",
   "execution_count": 15,
   "metadata": {
    "scrolled": true
   },
   "outputs": [
    {
     "data": {
      "text/plain": [
       "tensor(5.1930, device='cuda:0')"
      ]
     },
     "execution_count": 15,
     "metadata": {},
     "output_type": "execute_result"
    }
   ],
   "source": [
    "k_estimated.sum()"
   ]
  },
  {
   "cell_type": "code",
   "execution_count": 44,
   "metadata": {},
   "outputs": [
    {
     "data": {
      "text/plain": [
       "9.543817e-06"
      ]
     },
     "execution_count": 44,
     "metadata": {},
     "output_type": "execute_result"
    }
   ],
   "source": [
    "k_estimated_np[9, 9]"
   ]
  },
  {
   "cell_type": "code",
   "execution_count": 84,
   "metadata": {
    "scrolled": false
   },
   "outputs": [
    {
     "name": "stdout",
     "output_type": "stream",
     "text": [
      "0.004804317 0.0048941774 tensor([2.4905], device='cuda:0', dtype=torch.float64)\n"
     ]
    },
    {
     "data": {
      "image/png": "[encoded data removed]",
      "text/plain": [
       "<Figure size 921.6x691.2 with 2 Axes>"
      ]
     },
     "metadata": {
      "needs_background": "light"
     },
     "output_type": "display_data"
    },
    {
     "name": "stdout",
     "output_type": "stream",
     "text": [
      "0.006287749 0.005422563 tensor([2.2855], device='cuda:0', dtype=torch.float64)\n"
     ]
    },
    {
     "data": {
      "image/png": "[encoded data removed]",
      "text/plain": [
       "<Figure size 921.6x691.2 with 2 Axes>"
      ]
     },
     "metadata": {
      "needs_background": "light"
     },
     "output_type": "display_data"
    },
    {
     "name": "stdout",
     "output_type": "stream",
     "text": [
      "0.0045854 0.0048941774 tensor([2.4905], device='cuda:0', dtype=torch.float64)\n"
     ]
    },
    {
     "data": {
      "image/png": "[encoded data removed]",
      "text/plain": [
       "<Figure size 921.6x691.2 with 2 Axes>"
      ]
     },
     "metadata": {
      "needs_background": "light"
     },
     "output_type": "display_data"
    },
    {
     "name": "stdout",
     "output_type": "stream",
     "text": [
      "0.004521192 0.0048941774 tensor([2.4905], device='cuda:0', dtype=torch.float64)\n"
     ]
    },
    {
     "data": {
      "image/png": "[encoded data removed]",
      "text/plain": [
       "<Figure size 921.6x691.2 with 2 Axes>"
      ]
     },
     "metadata": {
      "needs_background": "light"
     },
     "output_type": "display_data"
    },
    {
     "name": "stdout",
     "output_type": "stream",
     "text": [
      "0.005612513 0.005422563 tensor([2.2855], device='cuda:0', dtype=torch.float64)\n"
     ]
    },
    {
     "data": {
      "image/png": "[encoded data removed]",
      "text/plain": [
       "<Figure size 921.6x691.2 with 2 Axes>"
      ]
     },
     "metadata": {
      "needs_background": "light"
     },
     "output_type": "display_data"
    },
    {
     "name": "stdout",
     "output_type": "stream",
     "text": [
      "0.0042611477 0.0048941774 tensor([2.4905], device='cuda:0', dtype=torch.float64)\n"
     ]
    },
    {
     "data": {
      "image/png": "[encoded data removed]",
      "text/plain": [
       "<Figure size 921.6x691.2 with 2 Axes>"
      ]
     },
     "metadata": {
      "needs_background": "light"
     },
     "output_type": "display_data"
    },
    {
     "name": "stdout",
     "output_type": "stream",
     "text": [
      "0.0047903797 0.00522466 tensor([2.3586], device='cuda:0', dtype=torch.float64)\n"
     ]
    },
    {
     "data": {
      "image/png": "[encoded data removed]",
      "text/plain": [
       "<Figure size 921.6x691.2 with 2 Axes>"
      ]
     },
     "metadata": {
      "needs_background": "light"
     },
     "output_type": "display_data"
    },
    {
     "name": "stdout",
     "output_type": "stream",
     "text": [
      "0.006377693 0.0068453085 tensor([1.8628], device='cuda:0', dtype=torch.float64)\n"
     ]
    },
    {
     "data": {
      "image/png": "[encoded data removed]",
      "text/plain": [
       "<Figure size 921.6x691.2 with 2 Axes>"
      ]
     },
     "metadata": {
      "needs_background": "light"
     },
     "output_type": "display_data"
    },
    {
     "name": "stdout",
     "output_type": "stream",
     "text": [
      "0.0044188295 0.005422563 tensor([2.2855], device='cuda:0', dtype=torch.float64)\n"
     ]
    },
    {
     "data": {
      "image/png": "[encoded data removed]",
      "text/plain": [
       "<Figure size 921.6x691.2 with 2 Axes>"
      ]
     },
     "metadata": {
      "needs_background": "light"
     },
     "output_type": "display_data"
    },
    {
     "name": "stdout",
     "output_type": "stream",
     "text": [
      "0.0041341064 0.0068453085 tensor([1.8628], device='cuda:0', dtype=torch.float64)\n"
     ]
    },
    {
     "data": {
      "image/png": "[encoded data removed]",
      "text/plain": [
       "<Figure size 921.6x691.2 with 2 Axes>"
      ]
     },
     "metadata": {
      "needs_background": "light"
     },
     "output_type": "display_data"
    },
    {
     "name": "stdout",
     "output_type": "stream",
     "text": [
      "0.0051263194 0.005422563 tensor([2.2855], device='cuda:0', dtype=torch.float64)\n"
     ]
    },
    {
     "data": {
      "image/png": "[encoded data removed]",
      "text/plain": [
       "<Figure size 921.6x691.2 with 2 Axes>"
      ]
     },
     "metadata": {
      "needs_background": "light"
     },
     "output_type": "display_data"
    }
   ],
   "source": [
    "for i, ds in enumerate(dl):\n",
    "    if i > 10:\n",
    "        break\n",
    "    for k, v in ds.items():\n",
    "        if torch.is_tensor(v):\n",
    "            ds[k] = v.cuda()\n",
    "    with torch.no_grad():\n",
    "        k_estimated = predictor(ds)\n",
    "    ds['k_save'] = ds['k']\n",
    "    ds['k'] = k_estimated\n",
    "    k_np = ds['k_save'].cpu().numpy().reshape(21, 21)\n",
    "    k_estimated_np = ds['k'].cpu().numpy().reshape(21, 21)\n",
    "    \n",
    "    print(np.std(k_estimated_np), np.std(k_np), ds['stddev'])\n",
    "    \n",
    "    plt.figure(figsize=(12.8, 9.6))\n",
    "    fig = plt.subplot(121)\n",
    "    fig.imshow(k_estimated_np, cmap=\"gray\")\n",
    "    fig = plt.subplot(122)\n",
    "    fig.imshow(k_np, cmap=\"gray\")\n",
    "    plt.show()"
   ]
  },
  {
   "cell_type": "code",
   "execution_count": 22,
   "metadata": {},
   "outputs": [
    {
     "data": {
      "image/png": "[encoded data removed]",
      "text/plain": [
       "<Figure size 921.6x691.2 with 2 Axes>"
      ]
     },
     "metadata": {
      "needs_background": "light"
     },
     "output_type": "display_data"
    }
   ],
   "source": [
    "plt.figure(figsize=(12.8, 9.6))\n",
    "fig = plt.subplot(121)\n",
    "fig.imshow(k_estimated_np, cmap=\"gray\")\n",
    "fig = plt.subplot(122)\n",
    "fig.imshow(k_np, cmap=\"gray\")\n",
    "plt.show()"
   ]
  },
  {
   "cell_type": "code",
   "execution_count": null,
   "metadata": {},
   "outputs": [],
   "source": [
    "with torch.no_grad():\n",
    "    sr = net(ds)\n",
    "show_results(sr, ds)"
   ]
  }
 ],
 "metadata": {
  "kernelspec": {
   "display_name": "Python [conda env:sisr]",
   "language": "python",
   "name": "conda-env-sisr-py"
  },
  "language_info": {
   "codemirror_mode": {
    "name": "ipython",
    "version": 3
   },
   "file_extension": ".py",
   "mimetype": "text/x-python",
   "name": "python",
   "nbconvert_exporter": "python",
   "pygments_lexer": "ipython3",
   "version": "3.6.9"
  }
 },
 "nbformat": 4,
 "nbformat_minor": 2
}
