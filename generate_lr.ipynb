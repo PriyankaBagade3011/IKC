{
 "cells": [
  {
   "cell_type": "code",
   "execution_count": 1,
   "metadata": {},
   "outputs": [],
   "source": [
    "import torch\n",
    "import torch.nn as nn\n",
    "import torch.nn.functional as F\n",
    "import torch.optim as optim\n",
    "from torch.utils.data import DataLoader\n",
    "\n",
    "import pandas as pd\n",
    "import os, glob, imageio\n",
    "import numpy as np\n",
    "from PIL import Image\n",
    "import cv2\n",
    "from sklearn.model_selection import train_test_split\n",
    "import matplotlib.pyplot as plt\n",
    "from tqdm import tqdm\n",
    "\n",
    "from dataset.kernel_image_pair import KernelImagePair, default_augmentations, default_transforms\n",
    "from network.sftmd import SFTMD, Predictor, Corrector"
   ]
  },
  {
   "cell_type": "code",
   "execution_count": 2,
   "metadata": {},
   "outputs": [],
   "source": [
    "import numpy as np\n",
    "import math\n",
    "from torchvision.utils import make_grid\n",
    "def tensor2img(tensor, out_type=np.uint8, min_max=(0, 1)):\n",
    "    '''\n",
    "    Converts a torch Tensor into an image Numpy array\n",
    "    Input: 4D(B,(3/1),H,W), 3D(C,H,W), or 2D(H,W), any range, RGB channel order\n",
    "    Output: 3D(H,W,C) or 2D(H,W), [0,255], np.uint8 (default)\n",
    "    '''\n",
    "    tensor = tensor.squeeze().float().cpu().clamp_(*min_max)  # clamp\n",
    "    tensor = (tensor - min_max[0]) / (min_max[1] - min_max[0])  # to range [0,1]\n",
    "    n_dim = tensor.dim()\n",
    "    if n_dim == 4:\n",
    "        n_img = len(tensor)\n",
    "        img_np = make_grid(tensor, padding=0, nrow=1, normalize=False).numpy()\n",
    "        img_np = np.transpose(img_np[[2, 1, 0], :, :], (1, 2, 0))  # HWC, BGR\n",
    "    elif n_dim == 3:\n",
    "        img_np = tensor.numpy()\n",
    "        img_np = np.transpose(img_np[[2, 1, 0], :, :], (1, 2, 0))  # HWC, BGR\n",
    "    elif n_dim == 2:\n",
    "        img_np = tensor.numpy()\n",
    "    else:\n",
    "        raise TypeError(\n",
    "            'Only support 4D, 3D and 2D tensor. But received with dimension: {:d}'.format(n_dim))\n",
    "    if out_type == np.uint8:\n",
    "        img_np = (img_np * 255.0).round()\n",
    "        # Important. Unlike matlab, numpy.unit8() WILL NOT round by default.\n",
    "    return img_np.astype(out_type)"
   ]
  },
  {
   "cell_type": "code",
   "execution_count": 3,
   "metadata": {},
   "outputs": [],
   "source": [
    "os.environ['CUDA_VISIBLE_DEVICES'] = \"0\""
   ]
  },
  {
   "cell_type": "code",
   "execution_count": 7,
   "metadata": {},
   "outputs": [],
   "source": [
    "train_imgs = glob.glob(\"../data/DIV2K/DIV2K_train_HR/**/*.png\", recursive=True)\n",
    "test_imgs = glob.glob(\"../data/DIV2K/DIV2K_valid_HR/**/*.png\", recursive=True)\n",
    "scale=4\n",
    "ker_dim=10\n",
    "aniso=False\n",
    "diverse=False\n",
    "train_kernel = f\"kernels/train/kernel_scale{scale}_{'aniso' if aniso else 'iso'}_dim{ker_dim}{'_diverse' if diverse else ''}.pth\"\n",
    "test_kernel = f\"kernels/test_2/kernel_scale{scale}_{'aniso' if aniso else 'iso'}_dim{ker_dim}{'_diverse' if diverse else ''}.pth\"\n",
    "\n",
    "\n",
    "testsets = dict(\n",
    "    set5=glob.glob(\"../data/testing_datasets/Set5/*.png\", recursive=True),\n",
    "    div2k=glob.glob(\"../data/DIV2K/DIV2K_valid_HR/*.png\", recursive=True),\n",
    "#     set14=glob.glob(\"../data/testing_datasets/Set14/*.png\", recursive=True),\n",
    "    set14=glob.glob(\"../data/set14/Set14/images/*.png\", recursive=True),\n",
    "    urban100=glob.glob(\"../data/testing_datasets/Urban100/*.png\", recursive=True),\n",
    "    ffhq=glob.glob(\"../../ffhq-dataset/data/images1024x1024_test/69000/*.png\", recursive=True)\n",
    ")\n",
    "batch_size=1"
   ]
  },
  {
   "cell_type": "code",
   "execution_count": 8,
   "metadata": {},
   "outputs": [],
   "source": [
    "dataset = KernelImagePair(imgs=testsets['set5'], \n",
    "                            kernel_pickle=test_kernel, scale=scale, \n",
    "                            augmentations=default_augmentations, transforms=default_transforms, \n",
    "                            seed=0, train=False, cubic=True, interpolation=\"nearest\")\n",
    "dl = DataLoader(dataset)\n",
    "def image_to_bd(img, preserve_lr=False, cuda=True):\n",
    "    # img : tensor(CHW), np.array(HWC) \n",
    "    dataset.imgs = [img]\n",
    "    ds = next(iter(dl))\n",
    "    if preserve_lr:\n",
    "        ds['LR'] = ds['HR']\n",
    "    if cuda:\n",
    "        with torch.no_grad():\n",
    "            for k, v in ds.items():\n",
    "                ds[k] = ds[k].cuda()\n",
    "    return ds"
   ]
  },
  {
   "cell_type": "code",
   "execution_count": 9,
   "metadata": {},
   "outputs": [],
   "source": [
    "def psnr(est, gt, is_rgb=True):\n",
    "    diff = est - gt\n",
    "    shave = scale\n",
    "    if diff.size(1) > 1 and not is_rgb:\n",
    "        gray_coeffs = [65.738, 129.057, 25.064]\n",
    "        convert = diff.new_tensor(gray_coeffs).view(1, 3, 1, 1) / 256\n",
    "        diff = diff.mul(convert).sum(dim=1)\n",
    "    valid = diff[..., shave:-shave, shave:-shave]\n",
    "    mse = valid.pow(2).mean()\n",
    "    # 20 * torch.log10(1/(diff))\n",
    "    return -10 * torch.log10(mse)"
   ]
  },
  {
   "cell_type": "code",
   "execution_count": 11,
   "metadata": {},
   "outputs": [],
   "source": [
    "sr =  '/home/choijongho/workspace/sang/ikc_synthetic/butterfly.png'\n",
    "hr = '/home/choijongho/synthetic_lrs/original/butterfly.png'\n",
    "def psnr_img_path(sr, hr):\n",
    "    sr = imageio.imread(sr)\n",
    "    sr = sr.transpose((2, 0, 1))\n",
    "    sr = torch.from_numpy(sr).unsqueeze(0).float() / 255\n",
    "    hr = imageio.imread(hr)\n",
    "    hr = hr.transpose((2, 0, 1))\n",
    "    hr = torch.from_numpy(hr).unsqueeze(0).float() / 255\n",
    "    return psnr(sr, hr, is_rgb=False).item()"
   ]
  },
  {
   "cell_type": "code",
   "execution_count": 12,
   "metadata": {},
   "outputs": [
    {
     "name": "stdout",
     "output_type": "stream",
     "text": [
      "21.72319221496582\n",
      "22.68343162536621\n"
     ]
    }
   ],
   "source": [
    "sr_edsr =  '/home/choijongho/workspace/sang/synthetic_set14/img_001_SRF_4_HR_x4_SR.png'\n",
    "sr_ikc = '/home/choijongho/workspace/ikc/set14/img_001_SRF_4_HR.png'\n",
    "hr = \"/home/choijongho/workspace/sisr/data/set14/Set14/images/img_001_SRF_4_HR.png\"\n",
    "print(psnr_img_path(sr_edsr, hr))\n",
    "print(psnr_img_path(sr_ikc, hr))\n",
    "# sr =  '/home/choijongho/workspace/ikc/butterfly.png'\n",
    "# print(psnr_img_path(sr, hr))"
   ]
  },
  {
   "cell_type": "code",
   "execution_count": 13,
   "metadata": {},
   "outputs": [
    {
     "name": "stdout",
     "output_type": "stream",
     "text": [
      "tensor(32.2880)\n",
      "[tensor(33.7877), tensor(35.1845), tensor(28.7711), tensor(33.0057), tensor(30.6908)]\n"
     ]
    }
   ],
   "source": [
    "srs = sorted(glob.glob(\"/home/choijongho/test/sr/*.png\"))\n",
    "hrs = sorted(glob.glob(\"/home/choijongho/test/hr/*.png\"))\n",
    "\n",
    "psnrs = []\n",
    "for i in range(5):\n",
    "    sr = imageio.imread(srs[i])\n",
    "    sr = sr.transpose((2, 0, 1))\n",
    "    sr = torch.from_numpy(sr).unsqueeze(0).float() / 255\n",
    "    hr = imageio.imread(hrs[i])\n",
    "    hr = hr.transpose((2, 0, 1))\n",
    "    hr = torch.from_numpy(hr).unsqueeze(0).float() / 255\n",
    "    psnrs.append(psnr(sr, hr, is_rgb=False))\n",
    "    \n",
    "print(sum(psnrs) / 5)\n",
    "print(psnrs)"
   ]
  },
  {
   "cell_type": "code",
   "execution_count": 10,
   "metadata": {},
   "outputs": [],
   "source": [
    "def image_to_LR(img, seed=None):\n",
    "    if seed is not None:\n",
    "        dataset.random = np.random.RandomState(seed)\n",
    "    bd = image_to_bd(img)\n",
    "    lr = Image.fromarray(tensor2img(bd['LR']))\n",
    "    return lr"
   ]
  },
  {
   "cell_type": "code",
   "execution_count": 19,
   "metadata": {},
   "outputs": [],
   "source": [
    "def save_dataset(imgs, destination=\"test_imgs/\"):\n",
    "    os.makedirs(destination + \"/lr/\", exist_ok=True)\n",
    "    os.makedirs(destination + \"/hr/\", exist_ok=True)\n",
    "    os.makedirs(destination + \"/k/\", exist_ok=True)\n",
    "    dataset.random = np.random.RandomState(1)\n",
    "    for img in imgs:\n",
    "        bd = image_to_bd(img, cuda=False)\n",
    "        lr = Image.fromarray(tensor2img(bd['LR']))\n",
    "        lr.save(os.path.join(destination + \"/lr/\", os.path.basename(img)))\n",
    "        pil = Image.open(img)\n",
    "        pil.save(os.path.join(destination + \"/hr/\", os.path.basename(img)))\n",
    "        k = bd['k'][0]\n",
    "\n",
    "#         plt.imshow(k.numpy())\n",
    "#         plt.show()\n",
    "        torch.save(k, os.path.join(destination + \"/k/\", os.path.basename(img)))"
   ]
  },
  {
   "cell_type": "code",
   "execution_count": 20,
   "metadata": {},
   "outputs": [],
   "source": [
    "save_dataset(testsets['set5'], \"test_imgs/set5/iso/\")"
   ]
  },
  {
   "cell_type": "code",
   "execution_count": 22,
   "metadata": {},
   "outputs": [
    {
     "data": {
      "text/plain": [
       "<matplotlib.image.AxesImage at 0x7f44fa620b38>"
      ]
     },
     "execution_count": 22,
     "metadata": {},
     "output_type": "execute_result"
    },
    {
     "data": {
      "image/png": "[encoded data removed]",
      "text/plain": [
       "<Figure size 432x288 with 1 Axes>"
      ]
     },
     "metadata": {
      "needs_background": "light"
     },
     "output_type": "display_data"
    }
   ],
   "source": [
    "k = torch.load(\"test_imgs/set5/iso/k/butterfly.png\")\n",
    "plt.add_sub\n",
    "plt.imshow(k.numpy())"
   ]
  },
  {
   "cell_type": "code",
   "execution_count": null,
   "metadata": {},
   "outputs": [],
   "source": []
  }
 ],
 "metadata": {
  "kernelspec": {
   "display_name": "Python [conda env:sisr] *",
   "language": "python",
   "name": "conda-env-sisr-py"
  },
  "language_info": {
   "codemirror_mode": {
    "name": "ipython",
    "version": 3
   },
   "file_extension": ".py",
   "mimetype": "text/x-python",
   "name": "python",
   "nbconvert_exporter": "python",
   "pygments_lexer": "ipython3",
   "version": "3.6.9"
  }
 },
 "nbformat": 4,
 "nbformat_minor": 2
}
